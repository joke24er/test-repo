# Shutdown server
set -e
if [ -f .uvicorn_pid ]; then
  PID=$(cat .uvicorn_pid)
  if kill -0 "$PID" 2>/dev/null; then
    kill "$PID" || true
    sleep 1
  fi
  rm -f .uvicorn_pid
  echo "Stopped uvicorn ($PID)"
else
  echo ".uvicorn_pid not found"
fi# List workflows
r = s.get(f"{BASE_URL}/workflows", timeout=10)
r.raise_for_status()
print(len(r.json()), "workflows")
print(r.json()[:2])# List personas
r = s.get(f"{BASE_URL}/personas", timeout=10)
r.raise_for_status()
print(len(r.json()), "personas")
print(r.json()[:2])# Health check
r = s.get(f"{BASE_URL}/health", timeout=10)
r.raise_for_status()
print(r.json())import os, requests, json
BASE_URL = f"http://127.0.0.1:{os.environ.get('PORT', '8000')}"
s = requests.Session()
print({"BASE_URL": BASE_URL})set -e
# Kill any previous uvicorn
if [ -f .uvicorn_pid ]; then
  if kill -0 $(cat .uvicorn_pid) 2>/dev/null; then
    kill $(cat .uvicorn_pid) || true
    sleep 1
  fi
  rm -f .uvicorn_pid
fi
# Start server in background
python3 - <<'PY'
import os, subprocess, sys, time
host = os.environ.get('HOST', '0.0.0.0')
port = int(os.environ.get('PORT', '8000'))
cmd = [sys.executable, '-m', 'uvicorn', 'src.api:app', '--host', host, '--port', str(port)]
proc = subprocess.Popen(cmd, stdout=subprocess.PIPE, stderr=subprocess.STDOUT)
with open('.uvicorn_pid','w') as f:
    f.write(str(proc.pid))
print(f"Started uvicorn PID {proc.pid} on {host}:{port}")
PY
# Wait for health endpoint
for i in $(seq 1 30); do
  if curl -fsS "http://127.0.0.1:${PORT:-8000}/health" >/dev/null; then
    echo "Server is up"
    exit 0
  fi
  sleep 1
  echo "Waiting for server... $i"
done
echo "Server failed to start" >&2
exit 1import os
HOST = os.environ.get("HOST", "0.0.0.0")
PORT = int(os.environ.get("PORT", "8000"))
DEBUG = os.environ.get("DEBUG", "False").lower() == "true"
print({"HOST": HOST, "PORT": PORT, "DEBUG": DEBUG})set -e
python3 -m pip install --upgrade pip wheel
if [ -f requirements.txt ]; then
  python3 -m pip install -r requirements.txt
else
  python3 -m pip install -r requirements_simplified.txt
fi
python3 -c "import fastapi, uvicorn, pydantic; print('Deps OK')"# Backend Demo Notebook

This notebook installs requirements, starts the FastAPI backend, and exercises key endpoints.

- Framework: FastAPI + Uvicorn
- Entrypoint: `app.py` (loads `src.api:app`)

Run cells top-to-bottom.