set -e
python3 -m pip install --upgrade pip wheel
if [ -f requirements.txt ]; then
  python3 -m pip install -r requirements.txt
else
  python3 -m pip install -r requirements_simplified.txt
fi
python3 -c "import fastapi, uvicorn, pydantic; print('Deps OK')"# Backend End-to-End Demo

This notebook installs Python requirements, starts the FastAPI backend, and exercises key API endpoints.

- Stack: FastAPI + Uvicorn
- Entrypoint: `app.py` (loads `src.api:app`)

Run cells top-to-bottom.