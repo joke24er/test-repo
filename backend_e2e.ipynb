## Notes
- If server fails to start, ensure missing modules under `src/` exist (e.g., `personas`, `workflow_engine`, `chat_system`).
- You can run the app directly with: `python app.py`.
- Adjust `HOST`, `PORT`, `DEBUG` via environment variables before starting the server cell.# Shutdown server
set -e
if [ -f .uvicorn_pid ]; then
  PID=$(cat .uvicorn_pid)
  if kill -0 "$PID" 2>/dev/null; then
    kill "$PID" || true
    sleep 1
  fi
  rm -f .uvicorn_pid
  echo "Stopped uvicorn ($PID)"
else
  echo ".uvicorn_pid not found"
fi# List workflows
try:
    r = s.get(f"{BASE_URL}/workflows", timeout=10)
    r.raise_for_status()
    data = r.json()
    print(len(data), "workflows")
    print(data[:2])
except Exception as e:
    print("Workflows call failed:", e)# List personas
try:
    r = s.get(f"{BASE_URL}/personas", timeout=10)
    r.raise_for_status()
    data = r.json()
    print(len(data), "personas")
    print(data[:2])
except Exception as e:
    print("Personas call failed:", e)# Health check
try:
    r = s.get(f"{BASE_URL}/health", timeout=10)
    r.raise_for_status()
    print(r.json())
except Exception as e:
    print("Health check failed:", e)import os, requests
BASE_URL = f"http://127.0.0.1:{os.environ.get('PORT', '8000')}"
s = requests.Session()
print({"BASE_URL": BASE_URL})set -e
# Kill any previous uvicorn
if [ -f .uvicorn_pid ]; then
  if kill -0 $(cat .uvicorn_pid) 2>/dev/null; then
    kill $(cat .uvicorn_pid) || true
    sleep 1
  fi
  rm -f .uvicorn_pid
fi
# Start server in background
python3 - <<'PY'
import os, subprocess, sys
host = os.environ.get('HOST', '0.0.0.0')
port = int(os.environ.get('PORT', '8000'))
cmd = [sys.executable, '-m', 'uvicorn', 'src.api:app', '--host', host, '--port', str(port)]
proc = subprocess.Popen(cmd, stdout=subprocess.DEVNULL, stderr=subprocess.STDOUT)
open('.uvicorn_pid','w').write(str(proc.pid))
print(f"Started uvicorn PID {proc.pid} on {host}:{port}")
PY
# Wait for health endpoint
for i in $(seq 1 30); do
  if curl -fsS "http://127.0.0.1:${PORT:-8000}/health" >/dev/null; then
    echo "Server is up"
    exit 0
  fi
  sleep 1
  echo "Waiting for server... $i"
done
echo "Server failed to start (this project may not include all modules)."import os
HOST = os.environ.get("HOST", "0.0.0.0")
PORT = int(os.environ.get("PORT", "8000"))
DEBUG = os.environ.get("DEBUG", "False").lower() == "true"
print({"HOST": HOST, "PORT": PORT, "DEBUG": DEBUG})set -e
python3 -m pip install --upgrade pip wheel
if [ -f requirements.txt ]; then
  python3 -m pip install -r requirements.txt
else
  python3 -m pip install -r requirements_simplified.txt
fi
python3 -c "import fastapi, uvicorn, pydantic; print('Deps OK')"# Backend End-to-End Demo

This notebook installs Python requirements, starts the FastAPI backend, and exercises key API endpoints.

- Stack: FastAPI + Uvicorn
- Entrypoint: `app.py` (loads `src.api:app`)

Run cells top-to-bottom.